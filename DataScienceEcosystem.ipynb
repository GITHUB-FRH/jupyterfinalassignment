{
 "cells": [
  {
   "cell_type": "markdown",
   "id": "d0aec03e-5755-49c9-8caa-180f5083bafe",
   "metadata": {},
   "source": [
    "# Data Science Tools and Ecosystem"
   ]
  },
  {
   "cell_type": "markdown",
   "id": "9927e96c-17fd-4958-ab45-c2ed30fee55a",
   "metadata": {},
   "source": [
    "## In this notebok, Data Science Tools and Ecosystem are summarised."
   ]
  },
  {
   "cell_type": "markdown",
   "id": "7247014c-8cae-476d-877e-ef3316ca525d",
   "metadata": {
    "jp-MarkdownHeadingCollapsed": true
   },
   "source": [
    "## Some of the popular languages that Data Scientist use are:\n",
    "1. Python\n",
    "2. R\n",
    "3. Julia"
   ]
  },
  {
   "cell_type": "markdown",
   "id": "b64e9649-25e3-47ec-96bd-c8a5fa54b4a9",
   "metadata": {},
   "source": [
    "## Some of the commonly used libraries used by Data Scientist include:\n",
    "1. Pandas\n",
    "2. NumPy\n",
    "3. Matplotlib"
   ]
  },
  {
   "cell_type": "markdown",
   "id": "0a2a1f70-8f22-4e7d-9737-e63669c5ff66",
   "metadata": {},
   "source": [
    "| Data Science Tools |\n",
    "| -------------------| \n",
    "| Jupyter Notebooks |\n",
    "| R Studio |\n",
    "| Zeppelin Notebooks |"
   ]
  },
  {
   "cell_type": "markdown",
   "id": "42a81a28-0db6-44ce-807c-1265eb42efb8",
   "metadata": {},
   "source": [
    "### Below are a few examples of evelauating arithmetic expressions in Python"
   ]
  },
  {
   "cell_type": "code",
   "execution_count": 2,
   "id": "cc62a218-67ae-4285-880d-e71c41b3629d",
   "metadata": {},
   "outputs": [
    {
     "data": {
      "text/plain": [
       "17"
      ]
     },
     "execution_count": 2,
     "metadata": {},
     "output_type": "execute_result"
    }
   ],
   "source": [
    "## This is a simple arithmetic expression to multiply then add integers\n",
    "(3*4)+5"
   ]
  },
  {
   "cell_type": "code",
   "execution_count": 3,
   "id": "b964fc7a-f2b7-4ebf-8f21-3f1366228842",
   "metadata": {},
   "outputs": [
    {
     "data": {
      "text/plain": [
       "3.3333333333333335"
      ]
     },
     "execution_count": 3,
     "metadata": {},
     "output_type": "execute_result"
    }
   ],
   "source": [
    "## This will convert 200 minutes to hours by dividing by 60\n",
    "200/60"
   ]
  },
  {
   "cell_type": "markdown",
   "id": "c04c5884-ca85-4c54-8a5b-2667ae80ce6b",
   "metadata": {},
   "source": [
    "**Objectives**\n",
    "- List of popular language for Data Science\n",
    "- List of popular libraries for Data Science\n",
    "- Evaluate arithmetic expression in Python"
   ]
  },
  {
   "cell_type": "markdown",
   "id": "a07548b2-81b1-4121-b13c-94b952e0380f",
   "metadata": {},
   "source": [
    "## Author\n",
    "Farah Azman"
   ]
  },
  {
   "cell_type": "code",
   "execution_count": null,
   "id": "bca153b8-a016-46e3-9ce3-d11e9bf43da4",
   "metadata": {},
   "outputs": [],
   "source": []
  }
 ],
 "metadata": {
  "kernelspec": {
   "display_name": "Python 3 (ipykernel)",
   "language": "python",
   "name": "python3"
  },
  "language_info": {
   "codemirror_mode": {
    "name": "ipython",
    "version": 3
   },
   "file_extension": ".py",
   "mimetype": "text/x-python",
   "name": "python",
   "nbconvert_exporter": "python",
   "pygments_lexer": "ipython3",
   "version": "3.11.7"
  }
 },
 "nbformat": 4,
 "nbformat_minor": 5
}
